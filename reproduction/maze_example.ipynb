{
 "cells": [
  {
   "cell_type": "code",
   "execution_count": 7,
   "metadata": {
    "ExecuteTime": {
     "end_time": "2023-09-01T17:39:11.170601527Z",
     "start_time": "2023-09-01T17:39:11.126132428Z"
    }
   },
   "outputs": [
    {
     "name": "stdout",
     "output_type": "stream",
     "text": [
      "The autoreload extension is already loaded. To reload it, use:\n",
      "  %reload_ext autoreload\n",
      "Mosek is enabled:  True\n"
     ]
    }
   ],
   "source": [
    "%load_ext autoreload\n",
    "%autoreload 2\n",
    "\n",
    "import os\n",
    "import numpy as np\n",
    "import matplotlib.pyplot as plt\n",
    "from matplotlib.collections import PatchCollection\n",
    "from random import choice, randint, seed\n",
    "\n",
    "from pydrake.geometry.optimization import HPolyhedron\n",
    "from pydrake.solvers import MosekSolver\n",
    "\n",
    "from gcs.bezier import BezierGCS\n",
    "from gcs.linear import LinearGCS\n",
    "from models.maze import Maze\n",
    "\n",
    "os.environ[\"MOSEKLM_LICENSE_FILE\"] = \"/home/gaussian/Documents/softwares/mosektoolslinux64x86/mosek.lic\"\n",
    "MosekSolver.AcquireLicense()\n",
    "print(\"Mosek is enabled: \", MosekSolver().enabled())\n"
   ]
  },
  {
   "cell_type": "markdown",
   "metadata": {},
   "source": [
    "# Construction of the maze"
   ]
  },
  {
   "cell_type": "code",
   "execution_count": 5,
   "metadata": {
    "ExecuteTime": {
     "end_time": "2023-09-01T17:35:54.561951003Z",
     "start_time": "2023-09-01T17:35:54.475358603Z"
    }
   },
   "outputs": [],
   "source": [
    "seed(4)\n",
    "\n",
    "maze_size = 50\n",
    "knock_downs = 100\n",
    "\n",
    "start = np.array([0.5, 0])\n",
    "goal = np.array([maze_size - 0.5, maze_size])\n",
    "maze = Maze(maze_size, maze_size)\n",
    "maze.make_maze()\n",
    "\n",
    "while knock_downs > 0:\n",
    "    cell = maze.cell_at(randint(1, maze_size - 2), randint(1, maze_size - 2))\n",
    "    walls = [w for w, up in cell.walls.items() if up]\n",
    "    if len(walls) > 0:\n",
    "        maze.knock_down_wall(cell, choice(walls))\n",
    "        knock_downs -= 1\n",
    "\n",
    "regions = []\n",
    "edges = []\n",
    "for x in range(maze_size):\n",
    "    for y in range(maze_size):\n",
    "        regions.append(HPolyhedron.MakeBox([x, y], [x+1., y+1.]))\n",
    "        C = y + x * maze.ny\n",
    "        if not maze.map[x][y].walls['N']:\n",
    "            edges.append((C, C + 1))\n",
    "        if not maze.map[x][y].walls['S']:\n",
    "            edges.append((C, C - 1))\n",
    "        if not maze.map[x][y].walls['E']:\n",
    "            edges.append((C, C + maze.ny))\n",
    "        if not maze.map[x][y].walls['W']:\n",
    "            edges.append((C, C - maze.ny))"
   ]
  },
  {
   "cell_type": "markdown",
   "metadata": {},
   "source": [
    "# Minimum-distance problem"
   ]
  },
  {
   "cell_type": "code",
   "execution_count": 3,
   "metadata": {
    "ExecuteTime": {
     "end_time": "2023-09-01T05:42:01.249763537Z",
     "start_time": "2023-09-01T05:42:01.194368148Z"
    }
   },
   "outputs": [],
   "source": [
    "def plot_maze():\n",
    "    plt.figure(figsize=(5,5))\n",
    "    plt.axis('equal')\n",
    "    maze.plot(1)\n",
    "    plt.plot(*start, 'kx', markersize=10)\n",
    "    plt.plot(*goal, 'kx', markersize=10)"
   ]
  },
  {
   "cell_type": "code",
   "execution_count": 8,
   "metadata": {
    "ExecuteTime": {
     "end_time": "2023-09-02T21:46:21.006477477Z",
     "start_time": "2023-09-02T21:46:15.510466956Z"
    }
   },
   "outputs": [
    {
     "ename": "NameError",
     "evalue": "name 'plot_maze' is not defined",
     "output_type": "error",
     "traceback": [
      "\u001B[0;31m---------------------------------------------------------------------------\u001B[0m",
      "\u001B[0;31mNameError\u001B[0m                                 Traceback (most recent call last)",
      "Cell \u001B[0;32mIn[8], line 12\u001B[0m\n\u001B[1;32m      5\u001B[0m waypoints \u001B[38;5;241m=\u001B[39m gcs\u001B[38;5;241m.\u001B[39mSolvePath(relaxation)[\u001B[38;5;241m0\u001B[39m]\n\u001B[1;32m      7\u001B[0m \u001B[38;5;66;03m# soln_regions = []\u001B[39;00m\n\u001B[1;32m      8\u001B[0m \u001B[38;5;66;03m# for w in waypoints:\u001B[39;00m\n\u001B[1;32m      9\u001B[0m \u001B[38;5;66;03m#     for \u001B[39;00m\n\u001B[0;32m---> 12\u001B[0m \u001B[43mplot_maze\u001B[49m()\n\u001B[1;32m     13\u001B[0m \u001B[38;5;28;01mdef\u001B[39;00m \u001B[38;5;21mplot_circle\u001B[39m():\n\u001B[1;32m     14\u001B[0m     coll \u001B[38;5;241m=\u001B[39m PatchCollection([plt\u001B[38;5;241m.\u001B[39mCircle((\u001B[38;5;241m23\u001B[39m, \u001B[38;5;241m34\u001B[39m), \u001B[38;5;241m2\u001B[39m)], linewidth\u001B[38;5;241m=\u001B[39m\u001B[38;5;241m2\u001B[39m, fc\u001B[38;5;241m=\u001B[39m\u001B[38;5;124m'\u001B[39m\u001B[38;5;124mNone\u001B[39m\u001B[38;5;124m'\u001B[39m, ec\u001B[38;5;241m=\u001B[39m\u001B[38;5;124m'\u001B[39m\u001B[38;5;124mr\u001B[39m\u001B[38;5;124m'\u001B[39m, zorder\u001B[38;5;241m=\u001B[39m\u001B[38;5;241m3\u001B[39m)\n",
      "\u001B[0;31mNameError\u001B[0m: name 'plot_maze' is not defined"
     ]
    }
   ],
   "source": [
    "relaxation = True\n",
    "gcs = LinearGCS(regions, edges)\n",
    "gcs.addSourceTarget(start, goal)\n",
    "gcs.setSolver(MosekSolver())\n",
    "waypoints = gcs.SolvePath(relaxation)[0]\n",
    "\n",
    "# soln_regions = []\n",
    "# for w in waypoints:\n",
    "#     for \n",
    "    \n",
    "\n",
    "plot_maze()\n",
    "def plot_circle():\n",
    "    coll = PatchCollection([plt.Circle((23, 34), 2)], linewidth=2, fc='None', ec='r', zorder=3)\n",
    "    plt.gca().add_collection(coll)\n",
    "plot_circle()\n",
    "plt.plot(*waypoints, 'b')\n",
    "plt.savefig('maze_length.pdf', bbox_inches='tight')"
   ]
  },
  {
   "cell_type": "markdown",
   "metadata": {},
   "source": [
    "# Minimum-time problem"
   ]
  },
  {
   "cell_type": "code",
   "execution_count": null,
   "metadata": {},
   "outputs": [],
   "source": [
    "qdot_min = -1\n",
    "qdot_max = 1\n",
    "velocity = np.zeros((2, 2))\n",
    "order = 6\n",
    "continuity = 2\n",
    "hdot_min = 1e-1\n",
    "regularizer = [1e-1, 1e-1]\n",
    "st_edges = [[0], [-1]]\n",
    "\n",
    "gcs = BezierGCS(regions, order, continuity, edges, hdot_min=hdot_min)\n",
    "gcs.setSolver(MosekSolver())\n",
    "gcs.setPaperSolverOptions()\n",
    "gcs.addTimeCost(1)\n",
    "gcs.addDerivativeRegularization(*regularizer, 2)\n",
    "gcs.addVelocityLimits([qdot_min] * 2, [qdot_max] * 2)\n",
    "gcs.addSourceTarget(start, goal, edges=st_edges, velocity=velocity)\n",
    "traj = gcs.SolvePath(relaxation)[0]"
   ]
  },
  {
   "cell_type": "code",
   "execution_count": null,
   "metadata": {},
   "outputs": [],
   "source": [
    "n_samples = 5000\n",
    "\n",
    "times = np.linspace(traj.start_time(), traj.end_time(), n_samples)\n",
    "waypoints = np.squeeze([traj.value(t) for t in times]).T\n",
    "\n",
    "plot_maze()\n",
    "plot_circle()\n",
    "plt.plot(*waypoints, 'b')\n",
    "\n",
    "plt.savefig('maze_time.pdf', bbox_inches='tight')\n"
   ]
  }
 ],
 "metadata": {
  "kernelspec": {
   "display_name": "Python 3",
   "language": "python",
   "name": "python3"
  },
  "language_info": {
   "codemirror_mode": {
    "name": "ipython",
    "version": 3
   },
   "file_extension": ".py",
   "mimetype": "text/x-python",
   "name": "python",
   "nbconvert_exporter": "python",
   "pygments_lexer": "ipython3",
   "version": "3.8.10"
  }
 },
 "nbformat": 4,
 "nbformat_minor": 2
}
