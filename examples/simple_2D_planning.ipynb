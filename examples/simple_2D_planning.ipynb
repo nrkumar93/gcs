{
 "cells": [
  {
   "cell_type": "code",
   "execution_count": 1,
   "metadata": {
    "ExecuteTime": {
     "end_time": "2023-09-01T06:42:45.746945018Z",
     "start_time": "2023-09-01T06:42:45.177399713Z"
    }
   },
   "outputs": [],
   "source": [
    "%load_ext autoreload\n",
    "%autoreload 2\n",
    "\n",
    "import numpy as np\n",
    "import matplotlib.pyplot as plt\n",
    "import os\n",
    "\n",
    "from pydrake.geometry.optimization import HPolyhedron\n",
    "from pydrake.solvers import MosekSolver\n",
    "from pydrake.trajectories import PiecewisePolynomial\n",
    "\n",
    "from gcs.bezier import BezierGCS\n",
    "from gcs.linear import LinearGCS\n",
    "from gcs.rounding import *"
   ]
  },
  {
   "cell_type": "code",
   "execution_count": 3,
   "outputs": [
    {
     "name": "stdout",
     "output_type": "stream",
     "text": [
      "Mosek is not enabled, trying to config the license ...\n",
      "Mosek config successfully, and is now enabled\n"
     ]
    }
   ],
   "source": [
    "def ConfigMosek():\n",
    "    if not MosekSolver().available():\n",
    "        raise Exception(\"Mosek is not available\")\n",
    "    if not MosekSolver().enabled():\n",
    "        print(\"Mosek is not enabled, trying to config the license ...\")\n",
    "        try:\n",
    "            os.environ[\"MOSEKLM_LICENSE_FILE\"] = \"/home/gaussian/Documents/softwares/mosektoolslinux64x86/mosek.lic\"\n",
    "            MosekSolver().AcquireLicense()\n",
    "        except:\n",
    "            raise Exception(\"Mosek license file not found\")\n",
    "        print(\"Mosek config successfully, and is now enabled\")\n",
    "    else:\n",
    "        print(\"Mosek is enabled already\")\n",
    "\n",
    "ConfigMosek()\n"
   ],
   "metadata": {
    "collapsed": false,
    "ExecuteTime": {
     "end_time": "2023-07-09T03:07:18.441995155Z",
     "start_time": "2023-07-09T03:07:18.423628686Z"
    }
   }
  },
  {
   "cell_type": "markdown",
   "metadata": {},
   "source": [
    "# Diamond Obstacle"
   ]
  },
  {
   "cell_type": "code",
   "execution_count": 10,
   "outputs": [
    {
     "data": {
      "text/plain": "[<matplotlib.lines.Line2D at 0x7fcc8421ae30>]"
     },
     "execution_count": 10,
     "metadata": {},
     "output_type": "execute_result"
    },
    {
     "data": {
      "text/plain": "<Figure size 640x480 with 1 Axes>",
      "image/png": "[encoded data removed]"
     },
     "metadata": {},
     "output_type": "display_data"
    }
   ],
   "source": [
    "x_start = np.array([0., -2.])\n",
    "x_goal = np.array([0., 2.])\n",
    "convex_relaxation = True\n",
    "\n",
    "A_bl = np.array([[-1, 0], [0, -1], [1, 1]])\n",
    "A_br = np.array([[1, 0], [0, -1], [-1, 1]])\n",
    "A_tl = np.array([[-1, 0], [0, 1], [1, -1]])\n",
    "A_tr = np.array([[1, 0], [0, 1], [-1, -1]])\n",
    "b = np.array([3, 3, -1])\n",
    "\n",
    "regions = [\n",
    "    HPolyhedron(A_bl, b),\n",
    "    HPolyhedron(A_br, b),\n",
    "    HPolyhedron(A_tl, b),\n",
    "    HPolyhedron(A_tr, b),\n",
    "]\n",
    "\n",
    "\n",
    "plt.figure()\n",
    "plt.plot(x_start[0], x_start[1], 'b*', markersize=15)\n",
    "plt.plot(x_goal[0], x_goal[1], 'g*', markersize=15)\n",
    "plt.fill([1, 0, -1, 0], [0, 1, 0, -1], 'r')\n",
    "# ax[0].fill([1, 1, -1, -1], [-1, 1, 1, -1], 'r')\n",
    "plt.axis('equal')\n",
    "plt.gca().set_xlim(-4, 4)\n",
    "plt.gca().set_ylim(-4, 4)\n",
    "\n",
    "l_gcs = LinearGCS(regions)\n",
    "l_gcs.addSourceTarget(x_start, x_goal)\n",
    "l_gcs.setSolver(MosekSolver())\n",
    "waypoints = l_gcs.SolvePath(convex_relaxation)[0]\n",
    "t_knots = np.linspace(0, 1,  waypoints.shape[1])\n",
    "lin_traj = PiecewisePolynomial.FirstOrderHold(t_knots, waypoints)\n",
    "\n",
    "samples = np.linspace(lin_traj.start_time(), lin_traj.end_time())\n",
    "values = np.squeeze([lin_traj.value(s) for s in samples])\n",
    "plt.plot(values[:, 0], values[:, 1], \"m-\")\n",
    "\n",
    "b_gcs = BezierGCS(regions, order=5, continuity=2)\n",
    "b_gcs.addTimeCost(1)\n",
    "b_gcs.addPathLengthCost(1)\n",
    "b_gcs.addSourceTarget(x_start, x_goal)\n",
    "b_gcs.setSolver(MosekSolver())\n",
    "bezier_traj = b_gcs.SolvePath(convex_relaxation)[0]\n",
    "\n",
    "samples = np.linspace(bezier_traj.start_time(), bezier_traj.end_time())\n",
    "values = np.squeeze([bezier_traj.value(s) for s in samples])\n",
    "plt.plot(values[:, 0], values[:, 1], \"c-\")"
   ],
   "metadata": {
    "collapsed": false
   }
  },
  {
   "cell_type": "markdown",
   "metadata": {},
   "source": [
    "# Square Obstacle"
   ]
  },
  {
   "cell_type": "code",
   "execution_count": null,
   "metadata": {},
   "outputs": [],
   "source": [
    "x_start = np.array([0., -2.])\n",
    "x_goal = np.array([0., 2.])\n",
    "convex_relaxation = True\n",
    "\n",
    "regions = [\n",
    "    HPolyhedron.MakeBox([-4, -4],[4, -1]), # Bottom\n",
    "    HPolyhedron.MakeBox([-4, -4],[-1, 4]), # Left\n",
    "    HPolyhedron.MakeBox([1, -4],[4, 4]),   # Right\n",
    "    HPolyhedron.MakeBox([-4, 1],[4, 4]),   # Top\n",
    "]\n",
    "\n",
    "\n",
    "plt.figure()\n",
    "plt.plot(x_start[0], x_start[1], 'b*', markersize=15)\n",
    "plt.plot(x_goal[0], x_goal[1], 'g*', markersize=15)\n",
    "plt.fill([1, 1, -1, -1], [-1, 1, 1, -1], 'r')\n",
    "plt.axis('equal')\n",
    "plt.gca().set_xlim(-4, 4)\n",
    "plt.gca().set_ylim(-4, 4)\n",
    "\n",
    "l_gcs = LinearGCS(regions)\n",
    "l_gcs.addSourceTarget(x_start, x_goal)\n",
    "l_gcs.setSolver(MosekSolver())\n",
    "waypoints = l_gcs.SolvePath(convex_relaxation)[0]\n",
    "t_knots = np.linspace(0, 1,  waypoints.shape[1])\n",
    "lin_traj = PiecewisePolynomial.FirstOrderHold(t_knots, waypoints)\n",
    "\n",
    "samples = np.linspace(lin_traj.start_time(), lin_traj.end_time())\n",
    "values = np.squeeze([lin_traj.value(s) for s in samples])\n",
    "plt.plot(values[:, 0], values[:, 1], \"m-\")\n",
    "\n",
    "b_gcs = BezierGCS(regions, order=5, continuity=2)\n",
    "b_gcs.addTimeCost(1)\n",
    "b_gcs.addPathLengthCost(1)\n",
    "b_gcs.addSourceTarget(x_start, x_goal)\n",
    "b_gcs.setPaperSolverOptions()\n",
    "b_gcs.setSolver(MosekSolver())\n",
    "bezier_traj = b_gcs.SolvePath(convex_relaxation)[0]\n",
    "\n",
    "samples = np.linspace(bezier_traj.start_time(), bezier_traj.end_time())\n",
    "values = np.squeeze([bezier_traj.value(s) for s in samples])\n",
    "plt.plot(values[:, 0], values[:, 1], \"c-\")\n",
    "\n",
    "# Alternate rounding strategy\n",
    "b_gcs = BezierGCS(regions, order=5, continuity=2)\n",
    "b_gcs.addTimeCost(1)\n",
    "b_gcs.addPathLengthCost(1)\n",
    "b_gcs.addSourceTarget(x_start, x_goal)\n",
    "b_gcs.setPaperSolverOptions()\n",
    "b_gcs.setSolver(MosekSolver())\n",
    "b_gcs.setRoundingStrategy([greedyForwardPathSearch, greedyBackwardPathSearch])\n",
    "bezier_traj = b_gcs.SolvePath(convex_relaxation)[0]\n",
    "\n",
    "samples = np.linspace(bezier_traj.start_time(), bezier_traj.end_time())\n",
    "values = np.squeeze([bezier_traj.value(s) for s in samples])\n",
    "plt.plot(values[:, 0], values[:, 1], \"k-\")"
   ]
  },
  {
   "cell_type": "code",
   "execution_count": null,
   "metadata": {},
   "outputs": [],
   "source": []
  }
 ],
 "metadata": {
  "kernelspec": {
   "display_name": "Python 3",
   "language": "python",
   "name": "python3"
  },
  "language_info": {
   "codemirror_mode": {
    "name": "ipython",
    "version": 3
   },
   "file_extension": ".py",
   "mimetype": "text/x-python",
   "name": "python",
   "nbconvert_exporter": "python",
   "pygments_lexer": "ipython3",
   "version": "3.8.10"
  }
 },
 "nbformat": 4,
 "nbformat_minor": 2
}
